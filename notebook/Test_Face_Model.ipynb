{
  "cells": [
    {
      "cell_type": "code",
      "execution_count": null,
      "metadata": {
        "id": "KXcAGtqpPFhH"
      },
      "outputs": [],
      "source": [
        "!pip install requests\n",
        "!pip install Pillow\n",
        "!pip install numpy"
      ]
    },
    {
      "cell_type": "code",
      "execution_count": 35,
      "metadata": {
        "id": "YGh6_7DuPY86"
      },
      "outputs": [],
      "source": [
        "import requests\n",
        "from PIL import Image\n",
        "from io import BytesIO\n",
        "import numpy as np\n",
        "from keras.models import load_model\n",
        "from keras.preprocessing import image"
      ]
    },
    {
      "cell_type": "code",
      "execution_count": 36,
      "metadata": {
        "id": "tES8iTIXPcDZ"
      },
      "outputs": [],
      "source": [
        "# Load the saved model\n",
        "model = load_model('/content/drive/MyDrive/Colab Notebooks/emotion_recognition_model.keras')"
      ]
    },
    {
      "cell_type": "code",
      "execution_count": 37,
      "metadata": {
        "id": "gNM0t6Z5QuHN"
      },
      "outputs": [],
      "source": [
        "# Function to preprocess the image\n",
        "def preprocess_image(image):\n",
        "    # Resize the image to the required input shape of the model\n",
        "    image = image.resize((224, 224))  # Adjust the size as per your model's input shape\n",
        "    # Convert the image to a numpy array\n",
        "    image_array = np.array(image)\n",
        "    # Normalize the pixel values to be in the range [0, 1]\n",
        "    image_array = image_array / 255.0\n",
        "    # Add batch dimension\n",
        "    image_array = np.expand_dims(image_array, axis=0)\n",
        "    return image_array"
      ]
    },
    {
      "cell_type": "code",
      "execution_count": 38,
      "metadata": {
        "id": "3VzA7SXDQxJE"
      },
      "outputs": [],
      "source": [
        "def predict_emotion_from_image(image_path):\n",
        "    # Load the image from file\n",
        "    img = image.load_img(image_path, grayscale=True, target_size=(48, 48))\n",
        "\n",
        "    # Convert to array and normalize\n",
        "    img_array = image.img_to_array(img)\n",
        "    img_array = np.expand_dims(img_array, axis=0)\n",
        "    img_array /= 255.0\n",
        "\n",
        "    # Make prediction\n",
        "    predicted_class = model.predict(img_array)\n",
        "\n",
        "    # Decode the prediction\n",
        "    predicted_emotion = decode_emotion(predicted_class)\n",
        "\n",
        "    return predicted_emotion"
      ]
    },
    {
      "cell_type": "code",
      "execution_count": 45,
      "metadata": {
        "id": "SWl7QHMMSj2-"
      },
      "outputs": [],
      "source": [
        "def decode_emotion(predicted_class):\n",
        "    # Define the mapping of class indices to emotion labels\n",
        "    emotion_labels = ['angry', 'contempt', 'disgust', 'fear', 'happy', 'sadness', 'surprise']\n",
        "\n",
        "    # Get the index of the predicted class\n",
        "    predicted_index = np.argmax(predicted_class)\n",
        "\n",
        "    # Get the corresponding emotion label\n",
        "    predicted_emotion = emotion_labels[predicted_index]\n",
        "\n",
        "    return predicted_emotion\n"
      ]
    },
    {
      "cell_type": "code",
      "execution_count": 44,
      "metadata": {
        "colab": {
          "base_uri": "https://localhost:8080/"
        },
        "id": "HadUIvACQziU",
        "outputId": "0d520e4d-f87d-4e80-f21a-6a358379057f"
      },
      "outputs": [
        {
          "name": "stdout",
          "output_type": "stream",
          "text": [
            "1/1 [==============================] - 0s 26ms/step\n",
            "Predicted emotion: contempt\n"
          ]
        }
      ],
      "source": [
        "# Example usage\n",
        "image_path = '/content/drive/MyDrive/Colab Notebooks/test.jpg'  # Replace with your local image path\n",
        "predicted_emotion = predict_emotion_from_image(image_path)\n",
        "print('Predicted emotion:', predicted_emotion)"
      ]
    }
  ],
  "metadata": {
    "colab": {
      "provenance": []
    },
    "kernelspec": {
      "display_name": "Python 3",
      "name": "python3"
    },
    "language_info": {
      "name": "python"
    }
  },
  "nbformat": 4,
  "nbformat_minor": 0
}
