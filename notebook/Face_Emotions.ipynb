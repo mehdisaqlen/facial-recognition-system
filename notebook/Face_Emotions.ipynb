{
  "cells": [
    {
      "attachments": {},
      "cell_type": "markdown",
      "metadata": {},
      "source": [
        "# Facial Emotion Recognition Model\n",
        "\n",
        "This model can predict facial emotion using deep learning with almost accuracy of 92%"
      ]
    },
    {
      "cell_type": "code",
      "execution_count": null,
      "metadata": {
        "id": "1XylKgJjE-00"
      },
      "outputs": [],
      "source": [
        "from google.colab import drive\n",
        "drive.mount('/content/drive')\n",
        "\n",
        "import tensorflow as tf\n",
        "from tensorflow.keras.models import Sequential\n",
        "from tensorflow.keras.layers import Conv2D, MaxPooling2D, Flatten, Dense\n",
        "from sklearn.model_selection import train_test_split\n",
        "import os\n",
        "import cv2\n",
        "import numpy as np\n",
        "from sklearn.preprocessing import LabelEncoder"
      ]
    },
    {
      "attachments": {},
      "cell_type": "markdown",
      "metadata": {},
      "source": [
        "## Define and load dataset"
      ]
    },
    {
      "cell_type": "code",
      "execution_count": null,
      "metadata": {
        "id": "FQjs4gP9FHdy"
      },
      "outputs": [],
      "source": [
        "dataset_dir = '/content/drive/MyDrive/Colab Notebooks/dataset.zip'\n",
        "\n",
        "!unzip '/content/drive/MyDrive/Colab Notebooks/dataset.zip' -d '/content/dataset'\n",
        "\n",
        "# Path to the directory containing the extracted dataset\n",
        "dataset_dir = '/content/dataset'"
      ]
    },
    {
      "attachments": {},
      "cell_type": "markdown",
      "metadata": {},
      "source": [
        "## List of emotion categories (folder names)"
      ]
    },
    {
      "cell_type": "code",
      "execution_count": 88,
      "metadata": {
        "id": "OQuVpkbsFLKK"
      },
      "outputs": [],
      "source": [
        "emotion_categories = os.listdir(dataset_dir)\n",
        "\n",
        "# Lists to store images and their corresponding labels\n",
        "images = []\n",
        "labels = []"
      ]
    },
    {
      "attachments": {},
      "cell_type": "markdown",
      "metadata": {},
      "source": [
        "## Iterate over each emotion category"
      ]
    },
    {
      "cell_type": "code",
      "execution_count": 89,
      "metadata": {
        "id": "n_1NeQYqFNES"
      },
      "outputs": [],
      "source": [
        "for category in emotion_categories:\n",
        "    # Path to the folder containing images for the current emotion category\n",
        "    category_dir = os.path.join(dataset_dir, category)\n",
        "\n",
        "    # List all image files in the current folder\n",
        "    image_files = os.listdir(category_dir)\n",
        "\n",
        "    # Loop through each image file\n",
        "    for image_file in image_files:\n",
        "        # Load the image using OpenCV\n",
        "        image_path = os.path.join(category_dir, image_file)\n",
        "        image = cv2.imread(image_path, cv2.IMREAD_GRAYSCALE)  # Load image in grayscale\n",
        "\n",
        "        # Append the image and its corresponding label to the lists\n",
        "        images.append(image)\n",
        "        labels.append(category)"
      ]
    },
    {
      "attachments": {},
      "cell_type": "markdown",
      "metadata": {},
      "source": [
        "### Convert lists to NumPy arrays"
      ]
    },
    {
      "cell_type": "code",
      "execution_count": 90,
      "metadata": {
        "id": "dLQLcx7cFPSq"
      },
      "outputs": [],
      "source": [
        "images = np.array(images)\n",
        "labels = np.array(labels)"
      ]
    },
    {
      "attachments": {},
      "cell_type": "markdown",
      "metadata": {},
      "source": [
        "### Split the dataset into train, validation, and test sets"
      ]
    },
    {
      "cell_type": "code",
      "execution_count": 91,
      "metadata": {
        "id": "1-duIt1xFRTS"
      },
      "outputs": [],
      "source": [
        "train_images, test_images, train_labels, test_labels = train_test_split(images, labels, test_size=0.2, random_state=42)\n",
        "train_images, val_images, train_labels, val_labels = train_test_split(train_images, train_labels, test_size=0.1, random_state=42)"
      ]
    },
    {
      "attachments": {},
      "cell_type": "markdown",
      "metadata": {},
      "source": [
        "### Print shapes to verify"
      ]
    },
    {
      "cell_type": "code",
      "execution_count": null,
      "metadata": {
        "id": "1UzDsIu1FTQa"
      },
      "outputs": [],
      "source": [
        "print(\"Train images shape:\", train_images.shape)\n",
        "print(\"Train labels shape:\", train_labels.shape)\n",
        "print(\"Validation images shape:\", val_images.shape)\n",
        "print(\"Validation labels shape:\", val_labels.shape)\n",
        "print(\"Test images shape:\", test_images.shape)\n",
        "print(\"Test labels shape:\", test_labels.shape)"
      ]
    },
    {
      "attachments": {},
      "cell_type": "markdown",
      "metadata": {},
      "source": [
        "### Define your model architecture"
      ]
    },
    {
      "cell_type": "code",
      "execution_count": 93,
      "metadata": {
        "id": "1np1irziFXRC"
      },
      "outputs": [],
      "source": [
        "model = Sequential([\n",
        "    Conv2D(32, (3, 3), activation='relu', input_shape=(48, 48, 1)),\n",
        "    MaxPooling2D((2, 2)),\n",
        "    Conv2D(64, (3, 3), activation='relu'),\n",
        "    MaxPooling2D((2, 2)),\n",
        "    Conv2D(128, (3, 3), activation='relu'),\n",
        "    MaxPooling2D((2, 2)),\n",
        "    Flatten(),\n",
        "    Dense(128, activation='relu'),\n",
        "    Dense(7, activation='softmax')  # 7 classes for different emotions\n",
        "])"
      ]
    },
    {
      "attachments": {},
      "cell_type": "markdown",
      "metadata": {},
      "source": [
        "### Compile the model"
      ]
    },
    {
      "cell_type": "code",
      "execution_count": 94,
      "metadata": {
        "id": "Vz5zJ4wvFY9a"
      },
      "outputs": [],
      "source": [
        "\n",
        "model.compile(optimizer='adam',\n",
        "              loss='sparse_categorical_crossentropy',\n",
        "              metrics=['accuracy'])"
      ]
    },
    {
      "attachments": {},
      "cell_type": "markdown",
      "metadata": {},
      "source": [
        "### Initialization of LabelEncoder function to encode string labels to numerical values"
      ]
    },
    {
      "cell_type": "code",
      "execution_count": 95,
      "metadata": {
        "id": "E5hF3_n9GZyC"
      },
      "outputs": [],
      "source": [
        "# Initialize LabelEncoder\n",
        "label_encoder = LabelEncoder()\n",
        "\n",
        "# Convert string labels to numerical format\n",
        "train_labels_encoded = label_encoder.fit_transform(train_labels)\n",
        "val_labels_encoded = label_encoder.fit_transform(val_labels)\n"
      ]
    },
    {
      "attachments": {},
      "cell_type": "markdown",
      "metadata": {},
      "source": [
        "### 💪🏼 Train the model"
      ]
    },
    {
      "cell_type": "code",
      "execution_count": null,
      "metadata": {
        "id": "6aZFSObrFa_K"
      },
      "outputs": [],
      "source": [
        "\n",
        "model.fit(train_images, train_labels_encoded, epochs=10, validation_data=(val_images, val_labels_encoded))"
      ]
    },
    {
      "cell_type": "code",
      "execution_count": 100,
      "metadata": {
        "colab": {
          "base_uri": "https://localhost:8080/"
        },
        "id": "XEBn9BNFOUjC",
        "outputId": "08f2e2a2-14e3-45e5-b320-4db217d6e260"
      },
      "outputs": [
        {
          "name": "stdout",
          "output_type": "stream",
          "text": [
            "7/7 [==============================] - 0s 26ms/step - loss: 0.2681 - accuracy: 0.9289\n",
            "Test accuracy: 0.9289340376853943\n"
          ]
        }
      ],
      "source": [
        "# Initialize the encoder\n",
        "label_encoder = LabelEncoder()\n",
        "\n",
        "# Fit and transform labels\n",
        "test_labels_encoded = label_encoder.fit_transform(test_labels)\n",
        "\n",
        "# Evaluate the model\n",
        "test_loss, test_acc = model.evaluate(test_images, test_labels_encoded)\n",
        "print('Test accuracy:', test_acc)\n",
        "\n",
        "# Save the model in the native Keras format\n",
        "model.save('emotion_recognition_model.keras')"
      ]
    }
  ],
  "metadata": {
    "colab": {
      "provenance": []
    },
    "kernelspec": {
      "display_name": "Python 3",
      "language": "python",
      "name": "python3"
    },
    "language_info": {
      "name": "python",
      "version": "3.11.3"
    },
    "vscode": {
      "interpreter": {
        "hash": "0f8236e9633392acdbf0e64c5d78fd894791bef0d95db7d1faea7942a008661a"
      }
    }
  },
  "nbformat": 4,
  "nbformat_minor": 0
}
